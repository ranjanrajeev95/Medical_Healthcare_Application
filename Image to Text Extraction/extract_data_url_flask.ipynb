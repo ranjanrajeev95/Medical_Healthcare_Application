{
 "cells": [
  {
   "cell_type": "code",
   "execution_count": 1,
   "metadata": {},
   "outputs": [],
   "source": [
    "from flask import Flask,jsonify\n",
    "from flask import request\n",
    "from flask import render_template\n",
    "import os\n",
    "from PIL import Image\n",
    "import pytesseract, re\n",
    "from pytesseract import Output\n",
    "import requests\n",
    "from io import BytesIO"
   ]
  },
  {
   "cell_type": "code",
   "execution_count": 2,
   "metadata": {},
   "outputs": [],
   "source": [
    "pytesseract.pytesseract.tesseract_cmd = r'C:\\\\Program Files\\\\Tesseract-OCR\\\\tesseract.exe' "
   ]
  },
  {
   "cell_type": "code",
   "execution_count": 3,
   "metadata": {},
   "outputs": [],
   "source": [
    "tessdata_dir_config = r'--tessdata-dir \"C:\\\\Program Files\\\\Tesseract-OCR\\\\tessdata\"'"
   ]
  },
  {
   "cell_type": "code",
   "execution_count": 4,
   "metadata": {},
   "outputs": [],
   "source": [
    "app = Flask(__name__)"
   ]
  },
  {
   "cell_type": "code",
   "execution_count": 5,
   "metadata": {},
   "outputs": [],
   "source": [
    "@app.route('/extractdata', methods=['GET'])\n",
    "def extract_data():\n",
    "    \n",
    "    url = \"https://raw.githubusercontent.com/soumyajit4419/How_Healthy_Are_You/master/Image%20to%20Text%20Extraction/Reports/Blood%20Count%20Report.JPG?token=ALMSHDNOYCQIQDGAGZHNBCC72MMVG\"\n",
    "    response = requests.get(url)\n",
    "    \n",
    "    img_data = pytesseract.image_to_data(Image.open(BytesIO(response.content)),output_type=Output.DICT,lang=\"eng\",config=tessdata_dir_config)\n",
    "    \n",
    "    parse_text = []\n",
    "    word_list = []\n",
    "    last_word = ''\n",
    "    \n",
    "    for word in img_data['text']:\n",
    "    \n",
    "        if word!='':\n",
    "            word_list.append(word)\n",
    "            last_word= word\n",
    "        \n",
    "        if (last_word!='' and word == '') or (word==img_data['text'][-1]):\n",
    "        \n",
    "            parse_text.append(word_list)\n",
    "            word_list= []\n",
    "        \n",
    "    list_final = [x for x in parse_text if x != []]\n",
    "    \n",
    "    \n",
    "    new_dict={}\n",
    "    \n",
    "    ans=False\n",
    "    \n",
    "    for i in range(len(list_final)):\n",
    "        \n",
    "        if(list_final[i][0]=='Name'):\n",
    "            new_dict['Name']=list_final[i][2]\n",
    "        \n",
    "        elif(list_final[i][0]=='Age'):\n",
    "            new_dict['Age']=list_final[i][2]\n",
    "\n",
    "        \n",
    "        elif(list_final[i][0]=='Date'):\n",
    "            new_dict['Date']=list_final[i][2]\n",
    "\n",
    "        elif(list_final[i][0]=='Haemoglobin'):\n",
    "            new_dict['Haemoglobin']=list_final[i][1]\n",
    "        \n",
    "        elif(list_final[i][0]=='RBC'):\n",
    "            new_dict['RBC']=list_final[i][1]\n",
    "        \n",
    "        elif(list_final[i][0]=='Platelet'):\n",
    "            new_dict['Platelet Count']=list_final[i][2]\n",
    "    \n",
    "        elif(list_final[i][0]=='Gender;' or list_final[i][0]=='Gender:'):\n",
    "            new_dict['Gender']=list_final[i][1]\n",
    "    \n",
    "        elif(list_final[i][0]=='Gender'):\n",
    "            new_dict['Gender']=list_final[i][2]\n",
    "        \n",
    "        if(len(list_final[i])>=2):\n",
    "        \n",
    "            if(list_final[i][1]==\"mgs/dt\" or list_final[i][1]=='mgs/dl' and not ans):\n",
    "            \n",
    "                new_dict['Blood Glucose(F)']=list_final[i][0]\n",
    "                new_dict['Blood Glucose(PP)']=list_final[i+1][0]\n",
    "                ans=True\n",
    "\n",
    "    \n",
    "    return jsonify(new_dict) "
   ]
  },
  {
   "cell_type": "code",
   "execution_count": null,
   "metadata": {},
   "outputs": [
    {
     "name": "stdout",
     "output_type": "stream",
     "text": [
      " * Serving Flask app \"__main__\" (lazy loading)\n",
      " * Environment: production\n",
      "   WARNING: This is a development server. Do not use it in a production deployment.\n",
      "   Use a production WSGI server instead.\n",
      " * Debug mode: off\n"
     ]
    },
    {
     "name": "stderr",
     "output_type": "stream",
     "text": [
      " * Running on http://127.0.0.1:5000/ (Press CTRL+C to quit)\n",
      "127.0.0.1 - - [04/Dec/2020 12:32:09] \"\u001b[37mGET /extractdata HTTP/1.1\u001b[0m\" 200 -\n"
     ]
    }
   ],
   "source": [
    "if __name__ == '__main__':\n",
    "    app.run()"
   ]
  },
  {
   "cell_type": "code",
   "execution_count": null,
   "metadata": {},
   "outputs": [],
   "source": []
  },
  {
   "cell_type": "code",
   "execution_count": null,
   "metadata": {},
   "outputs": [],
   "source": []
  },
  {
   "cell_type": "code",
   "execution_count": null,
   "metadata": {},
   "outputs": [],
   "source": []
  }
 ],
 "metadata": {
  "kernelspec": {
   "display_name": "Python 3",
   "language": "python",
   "name": "python3"
  },
  "language_info": {
   "codemirror_mode": {
    "name": "ipython",
    "version": 3
   },
   "file_extension": ".py",
   "mimetype": "text/x-python",
   "name": "python",
   "nbconvert_exporter": "python",
   "pygments_lexer": "ipython3",
   "version": "3.7.6"
  }
 },
 "nbformat": 4,
 "nbformat_minor": 4
}
